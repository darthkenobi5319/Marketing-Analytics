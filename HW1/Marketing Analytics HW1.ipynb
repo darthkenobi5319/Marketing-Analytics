{
 "cells": [
  {
   "cell_type": "code",
   "execution_count": 9,
   "metadata": {},
   "outputs": [],
   "source": [
    "import pandas as pd\n",
    "import numpy as np\n",
    "from scipy import stats"
   ]
  },
  {
   "cell_type": "code",
   "execution_count": 10,
   "metadata": {},
   "outputs": [],
   "source": [
    "df = pd.read_csv('AB_test_data.csv')"
   ]
  },
  {
   "cell_type": "code",
   "execution_count": 11,
   "metadata": {},
   "outputs": [],
   "source": [
    "df = df[df.columns.drop('date')]"
   ]
  },
  {
   "cell_type": "code",
   "execution_count": 6,
   "metadata": {},
   "outputs": [
    {
     "data": {
      "text/html": [
       "<div>\n",
       "<style scoped>\n",
       "    .dataframe tbody tr th:only-of-type {\n",
       "        vertical-align: middle;\n",
       "    }\n",
       "\n",
       "    .dataframe tbody tr th {\n",
       "        vertical-align: top;\n",
       "    }\n",
       "\n",
       "    .dataframe thead th {\n",
       "        text-align: right;\n",
       "    }\n",
       "</style>\n",
       "<table border=\"1\" class=\"dataframe\">\n",
       "  <thead>\n",
       "    <tr style=\"text-align: right;\">\n",
       "      <th></th>\n",
       "      <th>Variant</th>\n",
       "      <th>purchase_TF</th>\n",
       "      <th>id</th>\n",
       "    </tr>\n",
       "  </thead>\n",
       "  <tbody>\n",
       "    <tr>\n",
       "      <td>0</td>\n",
       "      <td>A</td>\n",
       "      <td>False</td>\n",
       "      <td>0x6f9421</td>\n",
       "    </tr>\n",
       "    <tr>\n",
       "      <td>1</td>\n",
       "      <td>A</td>\n",
       "      <td>False</td>\n",
       "      <td>0x59d442</td>\n",
       "    </tr>\n",
       "    <tr>\n",
       "      <td>2</td>\n",
       "      <td>A</td>\n",
       "      <td>True</td>\n",
       "      <td>0x6db8f8</td>\n",
       "    </tr>\n",
       "    <tr>\n",
       "      <td>3</td>\n",
       "      <td>A</td>\n",
       "      <td>False</td>\n",
       "      <td>0x68245d</td>\n",
       "    </tr>\n",
       "    <tr>\n",
       "      <td>4</td>\n",
       "      <td>A</td>\n",
       "      <td>False</td>\n",
       "      <td>0x28566e</td>\n",
       "    </tr>\n",
       "  </tbody>\n",
       "</table>\n",
       "</div>"
      ],
      "text/plain": [
       "  Variant  purchase_TF        id\n",
       "0       A        False  0x6f9421\n",
       "1       A        False  0x59d442\n",
       "2       A         True  0x6db8f8\n",
       "3       A        False  0x68245d\n",
       "4       A        False  0x28566e"
      ]
     },
     "execution_count": 6,
     "metadata": {},
     "output_type": "execute_result"
    }
   ],
   "source": [
    "df.head()"
   ]
  },
  {
   "cell_type": "code",
   "execution_count": 12,
   "metadata": {},
   "outputs": [
    {
     "data": {
      "text/html": [
       "<div>\n",
       "<style scoped>\n",
       "    .dataframe tbody tr th:only-of-type {\n",
       "        vertical-align: middle;\n",
       "    }\n",
       "\n",
       "    .dataframe tbody tr th {\n",
       "        vertical-align: top;\n",
       "    }\n",
       "\n",
       "    .dataframe thead th {\n",
       "        text-align: right;\n",
       "    }\n",
       "</style>\n",
       "<table border=\"1\" class=\"dataframe\">\n",
       "  <thead>\n",
       "    <tr style=\"text-align: right;\">\n",
       "      <th></th>\n",
       "      <th>Variant</th>\n",
       "      <th>purchase_TF</th>\n",
       "      <th>id</th>\n",
       "    </tr>\n",
       "  </thead>\n",
       "  <tbody>\n",
       "    <tr>\n",
       "      <td>0</td>\n",
       "      <td>A</td>\n",
       "      <td>False</td>\n",
       "      <td>0x6f9421</td>\n",
       "    </tr>\n",
       "    <tr>\n",
       "      <td>1</td>\n",
       "      <td>A</td>\n",
       "      <td>False</td>\n",
       "      <td>0x59d442</td>\n",
       "    </tr>\n",
       "    <tr>\n",
       "      <td>2</td>\n",
       "      <td>A</td>\n",
       "      <td>True</td>\n",
       "      <td>0x6db8f8</td>\n",
       "    </tr>\n",
       "    <tr>\n",
       "      <td>3</td>\n",
       "      <td>A</td>\n",
       "      <td>False</td>\n",
       "      <td>0x68245d</td>\n",
       "    </tr>\n",
       "    <tr>\n",
       "      <td>4</td>\n",
       "      <td>A</td>\n",
       "      <td>False</td>\n",
       "      <td>0x28566e</td>\n",
       "    </tr>\n",
       "  </tbody>\n",
       "</table>\n",
       "</div>"
      ],
      "text/plain": [
       "  Variant  purchase_TF        id\n",
       "0       A        False  0x6f9421\n",
       "1       A        False  0x59d442\n",
       "2       A         True  0x6db8f8\n",
       "3       A        False  0x68245d\n",
       "4       A        False  0x28566e"
      ]
     },
     "execution_count": 12,
     "metadata": {},
     "output_type": "execute_result"
    }
   ],
   "source": [
    "groupA = df.loc[df['Variant'] == 'A']\n",
    "groupA.head()"
   ]
  },
  {
   "cell_type": "code",
   "execution_count": 13,
   "metadata": {},
   "outputs": [
    {
     "data": {
      "text/html": [
       "<div>\n",
       "<style scoped>\n",
       "    .dataframe tbody tr th:only-of-type {\n",
       "        vertical-align: middle;\n",
       "    }\n",
       "\n",
       "    .dataframe tbody tr th {\n",
       "        vertical-align: top;\n",
       "    }\n",
       "\n",
       "    .dataframe thead th {\n",
       "        text-align: right;\n",
       "    }\n",
       "</style>\n",
       "<table border=\"1\" class=\"dataframe\">\n",
       "  <thead>\n",
       "    <tr style=\"text-align: right;\">\n",
       "      <th></th>\n",
       "      <th>Variant</th>\n",
       "      <th>purchase_TF</th>\n",
       "      <th>id</th>\n",
       "    </tr>\n",
       "  </thead>\n",
       "  <tbody>\n",
       "    <tr>\n",
       "      <td>7</td>\n",
       "      <td>B</td>\n",
       "      <td>False</td>\n",
       "      <td>0x724b78</td>\n",
       "    </tr>\n",
       "    <tr>\n",
       "      <td>55</td>\n",
       "      <td>B</td>\n",
       "      <td>False</td>\n",
       "      <td>0x83895b</td>\n",
       "    </tr>\n",
       "    <tr>\n",
       "      <td>69</td>\n",
       "      <td>B</td>\n",
       "      <td>False</td>\n",
       "      <td>0x202cfc</td>\n",
       "    </tr>\n",
       "    <tr>\n",
       "      <td>73</td>\n",
       "      <td>B</td>\n",
       "      <td>False</td>\n",
       "      <td>0x2bc5c5</td>\n",
       "    </tr>\n",
       "    <tr>\n",
       "      <td>76</td>\n",
       "      <td>B</td>\n",
       "      <td>True</td>\n",
       "      <td>0x58d794</td>\n",
       "    </tr>\n",
       "  </tbody>\n",
       "</table>\n",
       "</div>"
      ],
      "text/plain": [
       "   Variant  purchase_TF        id\n",
       "7        B        False  0x724b78\n",
       "55       B        False  0x83895b\n",
       "69       B        False  0x202cfc\n",
       "73       B        False  0x2bc5c5\n",
       "76       B         True  0x58d794"
      ]
     },
     "execution_count": 13,
     "metadata": {},
     "output_type": "execute_result"
    }
   ],
   "source": [
    "groupB = df.loc[df['Variant'] == 'B']\n",
    "groupB.head()"
   ]
  },
  {
   "cell_type": "code",
   "execution_count": 5,
   "metadata": {},
   "outputs": [],
   "source": [
    "import scipy\n",
    "norm = scipy.stats.norm()"
   ]
  },
  {
   "cell_type": "code",
   "execution_count": 26,
   "metadata": {},
   "outputs": [],
   "source": [
    "# Assuming equal variances\n",
    "# Assuming one-tailed\n",
    "# This function gives us the t-stats\n",
    "#@param: confidence: the accepted confidence level\n",
    "#        A: the control group (as an 1-D list)\n",
    "#        B: the treatment group(as an 1-D list)\n",
    "#@return: the t-stats\n",
    "def t_test(A,B,confidence):\n",
    "    x1 = np.mean(A)\n",
    "    x2 = np.mean(B)\n",
    "    s = 0\n",
    "    for i in range(len(A)):\n",
    "        s += (A[i]-x1)**2\n",
    "    for j in range(len(B)):\n",
    "        s += (B[j]-x2)**2\n",
    "    s = np.sqrt(s/(len(A)+len(B)-2))\n",
    "    t = (x2-x1)/(s*np.sqrt(1/len(A)+1/len(B)))\n",
    "    if t >= norm.ppf(confidence):\n",
    "        print('The improvment of B is statistically siginificant.')\n",
    "    else:\n",
    "        print('The improvment of B is not statistically siginificant.')\n",
    "    print('t score is: ', t)\n",
    "    return t"
   ]
  },
  {
   "cell_type": "code",
   "execution_count": 28,
   "metadata": {},
   "outputs": [
    {
     "name": "stdout",
     "output_type": "stream",
     "text": [
      "The improvment of B is statistically siginificant.\n",
      "t score is:  8.204699796739607\n"
     ]
    },
    {
     "data": {
      "text/plain": [
       "8.204699796739607"
      ]
     },
     "execution_count": 28,
     "metadata": {},
     "output_type": "execute_result"
    }
   ],
   "source": [
    "A_list = list(groupA['purchase_TF'])\n",
    "B_list = list(groupB['purchase_TF'])\n",
    "t_test(A_list,B_list,0.95)"
   ]
  },
  {
   "cell_type": "code",
   "execution_count": 40,
   "metadata": {},
   "outputs": [],
   "source": [
    "# assume equal sample size\n",
    "# Assuming one-tailed\n",
    "# This function gives us the optimal sample size, given a caertain confidence level and power\n",
    "#@param: confidence: the accepted confidence level\n",
    "#        power: power\n",
    "#        A: the control group (as an 1-D list)\n",
    "#        B: the treatment group (as an 1-D list)\n",
    "#@return: the minimal sample size for each group\n",
    "def sample_size_estimation(confidence,power,A,B):\n",
    "    x1 = np.mean(A)\n",
    "    x2 = np.mean(B)\n",
    "    var1 = np.var(A)\n",
    "    var2 = np.var(B)\n",
    "    mde = norm.ppf(power)*np.sqrt(var1/len(A)+var2/len(B))+(x1-x2)\n",
    "    p = (np.sum(A)+np.sum(B))/(len(A)+len(B))\n",
    "    n = (((norm.ppf(confidence)*np.sqrt(2*p*(1-p)) + norm.ppf(power)*np.sqrt(x1*(1-x1)+x2*(1-x2))))**2)/(mde**2)\n",
    "    return n"
   ]
  },
  {
   "cell_type": "code",
   "execution_count": 41,
   "metadata": {},
   "outputs": [
    {
     "name": "stdout",
     "output_type": "stream",
     "text": [
      "1089.727979264397\n"
     ]
    }
   ],
   "source": [
    "A_list = list(groupA['purchase_TF'])\n",
    "B_list = list(groupB['purchase_TF'])\n",
    "optimal_size = sample_size_estimation(0.95,0.8,A_list,B_list)\n",
    "print(optimal_size)"
   ]
  },
  {
   "cell_type": "code",
   "execution_count": 19,
   "metadata": {},
   "outputs": [],
   "source": [
    "from random import sample\n",
    "import math\n",
    "# assume equal sample size\n",
    "# Assuming one-tailed\n",
    "# This function gives us the t test based on random sampling\n",
    "#@param:  confidence: the accepted confidence level\n",
    "#         iterations: the number of random sampling \n",
    "#         size: sample size\n",
    "#         A: the control group (as an 1-D list)\n",
    "#         B: the treatment group (as an 1-D list)\n",
    "#@return: none\n",
    "def random_t_test(A,B,iterations,size,confidence):\n",
    "    size  = math.ceil(size)\n",
    "    for i in range(iterations):\n",
    "        A_sample = sample(A,size)\n",
    "        B_sample = sample(B,size)\n",
    "        t_test(A_sample,B_sample,confidence)\n",
    "    return\n",
    "\n"
   ]
  },
  {
   "cell_type": "code",
   "execution_count": 20,
   "metadata": {},
   "outputs": [
    {
     "name": "stdout",
     "output_type": "stream",
     "text": [
      "t-stat: 1.3465299060063374\n",
      "The improvment of B is not statistically siginificant with 95% confidence\n",
      "t-stat: 1.597182087807784\n",
      "The improvment of B is not statistically siginificant with 95% confidence\n",
      "t-stat: 3.160706537839517\n",
      "The improvment of B is statistically siginificant with 95% confidence\n",
      "t-stat: 1.8814352294188352\n",
      "The improvment of B is statistically siginificant with 95% confidence\n",
      "t-stat: 2.2368062556718353\n",
      "The improvment of B is statistically siginificant with 95% confidence\n",
      "t-stat: 2.9235982468722783\n",
      "The improvment of B is statistically siginificant with 95% confidence\n",
      "t-stat: 1.745101207558235\n",
      "The improvment of B is statistically siginificant with 95% confidence\n",
      "t-stat: 4.554758043139889\n",
      "The improvment of B is statistically siginificant with 95% confidence\n",
      "t-stat: 2.5404220331710015\n",
      "The improvment of B is statistically siginificant with 95% confidence\n",
      "t-stat: 3.1402653058458414\n",
      "The improvment of B is statistically siginificant with 95% confidence\n"
     ]
    }
   ],
   "source": [
    "A_list = list(groupA['purchase_TF'])\n",
    "B_list = list(groupB['purchase_TF'])\n",
    "\n",
    "random_t_test(A_list,B_list,10,optimal_size,0.95)"
   ]
  },
  {
   "cell_type": "code",
   "execution_count": 60,
   "metadata": {},
   "outputs": [],
   "source": [
    "import random\n",
    "# This function does the squential test\n",
    "#@param: iterations: the number of random sampling \n",
    "#        size: sample size\n",
    "#        A: the control group (as an 1-D list)\n",
    "#        B: the treatment group (as an 1-D list)\n",
    "#        alpha: 1-confidence interval\n",
    "#        power: power\n",
    "#@return: average number of iterations\n",
    "def sequential_t_test(A,B,iterations,size,alpha,power):\n",
    "    iteration = list() \n",
    "    size  = math.ceil(size)\n",
    "    for k in range(iterations):\n",
    "        A_sample = sample(A,size)\n",
    "        B_sample = sample(B,size)\n",
    "        ln_A = np.log(1/alpha)\n",
    "        ln_B = np.log(1-power)\n",
    "        total_sample = A_sample.copy()\n",
    "        total_sample.extend(B_sample)\n",
    "        random.shuffle(total_sample)\n",
    "        p_A = np.mean(A_sample)\n",
    "        p_B = np.mean(B_sample)\n",
    "        accumulative_log_lamda = 0\n",
    "        i=0\n",
    "        while (accumulative_log_lamda>ln_B) and (accumulative_log_lamda <ln_A):\n",
    "            if total_sample[i]:\n",
    "                accumulative_log_lamda += np.log(p_A/p_B)\n",
    "            else:\n",
    "                accumulative_log_lamda += np.log((1-p_A)/(1-p_B))\n",
    "            i+=1\n",
    "            if i >= len(total_sample):\n",
    "                print('Cannot reject or accept H0')\n",
    "                break\n",
    "        if accumulative_log_lamda <= ln_B:\n",
    "            print('Accept H0 in {} trials'.format(i))\n",
    "        elif accumulative_log_lamda >= ln_A:\n",
    "            print('Reject H0 in {} trials'.format(i))\n",
    "        iteration.append(i)\n",
    "    return np.average(iteration)"
   ]
  },
  {
   "cell_type": "code",
   "execution_count": 61,
   "metadata": {},
   "outputs": [
    {
     "name": "stdout",
     "output_type": "stream",
     "text": [
      "Accept H0 in 139 trials\n",
      "Accept H0 in 1049 trials\n",
      "Reject H0 in 638 trials\n",
      "Accept H0 in 135 trials\n",
      "Accept H0 in 425 trials\n",
      "Accept H0 in 38 trials\n",
      "Reject H0 in 83 trials\n",
      "Accept H0 in 107 trials\n",
      "Cannot reject or accept H0\n",
      "Accept H0 in 261 trials\n"
     ]
    },
    {
     "data": {
      "text/plain": [
       "505.5"
      ]
     },
     "execution_count": 61,
     "metadata": {},
     "output_type": "execute_result"
    }
   ],
   "source": [
    "A_list = list(groupA['purchase_TF'])\n",
    "B_list = list(groupB['purchase_TF'])\n",
    "sequential_t_test(A_list,B_list,10,optimal_size,0.05,0.8)"
   ]
  },
  {
   "cell_type": "code",
   "execution_count": null,
   "metadata": {},
   "outputs": [],
   "source": []
  }
 ],
 "metadata": {
  "kernelspec": {
   "display_name": "Python 3",
   "language": "python",
   "name": "python3"
  },
  "language_info": {
   "codemirror_mode": {
    "name": "ipython",
    "version": 3
   },
   "file_extension": ".py",
   "mimetype": "text/x-python",
   "name": "python",
   "nbconvert_exporter": "python",
   "pygments_lexer": "ipython3",
   "version": "3.7.4"
  }
 },
 "nbformat": 4,
 "nbformat_minor": 2
}
